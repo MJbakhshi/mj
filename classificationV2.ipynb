{
  "nbformat": 4,
  "nbformat_minor": 0,
  "metadata": {
    "colab": {
      "provenance": [],
      "machine_shape": "hm",
      "mount_file_id": "1pqf_i2Z91OKNi54gPjyIzvLfINz5hzkN",
      "authorship_tag": "ABX9TyMa5mC1Vs0LW5HgOKrIsY7u",
      "include_colab_link": true
    },
    "kernelspec": {
      "name": "python3",
      "display_name": "Python 3"
    },
    "language_info": {
      "name": "python"
    },
    "accelerator": "GPU",
    "gpuClass": "standard"
  },
  "cells": [
    {
      "cell_type": "markdown",
      "metadata": {
        "id": "view-in-github",
        "colab_type": "text"
      },
      "source": [
        "<a href=\"https://colab.research.google.com/github/MJbakhshi/mj/blob/main/classificationV2.ipynb\" target=\"_parent\"><img src=\"https://colab.research.google.com/assets/colab-badge.svg\" alt=\"Open In Colab\"/></a>"
      ]
    },
    {
      "cell_type": "code",
      "source": [
        "!nvidia-smi"
      ],
      "metadata": {
        "colab": {
          "base_uri": "https://localhost:8080/"
        },
        "id": "ONkLJ-CoO8T1",
        "outputId": "82a68b12-b146-4d76-ef01-6ff9b58001fe"
      },
      "execution_count": 1,
      "outputs": [
        {
          "output_type": "stream",
          "name": "stdout",
          "text": [
            "Sat Oct 15 20:00:33 2022       \n",
            "+-----------------------------------------------------------------------------+\n",
            "| NVIDIA-SMI 460.32.03    Driver Version: 460.32.03    CUDA Version: 11.2     |\n",
            "|-------------------------------+----------------------+----------------------+\n",
            "| GPU  Name        Persistence-M| Bus-Id        Disp.A | Volatile Uncorr. ECC |\n",
            "| Fan  Temp  Perf  Pwr:Usage/Cap|         Memory-Usage | GPU-Util  Compute M. |\n",
            "|                               |                      |               MIG M. |\n",
            "|===============================+======================+======================|\n",
            "|   0  A100-SXM4-40GB      Off  | 00000000:00:04.0 Off |                    0 |\n",
            "| N/A   33C    P0    41W / 400W |      0MiB / 40536MiB |      0%      Default |\n",
            "|                               |                      |             Disabled |\n",
            "+-------------------------------+----------------------+----------------------+\n",
            "                                                                               \n",
            "+-----------------------------------------------------------------------------+\n",
            "| Processes:                                                                  |\n",
            "|  GPU   GI   CI        PID   Type   Process name                  GPU Memory |\n",
            "|        ID   ID                                                   Usage      |\n",
            "|=============================================================================|\n",
            "|  No running processes found                                                 |\n",
            "+-----------------------------------------------------------------------------+\n"
          ]
        }
      ]
    },
    {
      "cell_type": "code",
      "source": [
        "!cp /content/drive/MyDrive/oct15-data-utils/* /content "
      ],
      "metadata": {
        "id": "x4KeXX4JNH9a"
      },
      "execution_count": 2,
      "outputs": []
    },
    {
      "cell_type": "code",
      "source": [
        "!wget https://s3.amazonaws.com/east1.public.rsna.org/AI/2017/Bone+Age+Training+Set.zip\n",
        "!unzip Bone+Age+Training+Set.zip"
      ],
      "metadata": {
        "colab": {
          "base_uri": "https://localhost:8080/"
        },
        "id": "uAOGJ0eSNukA",
        "outputId": "b03f0c2a-577c-4346-b26c-dc88158c2e50"
      },
      "execution_count": null,
      "outputs": [
        {
          "output_type": "stream",
          "name": "stdout",
          "text": [
            "--2022-10-15 19:56:52--  https://s3.amazonaws.com/east1.public.rsna.org/AI/2017/Bone+Age+Training+Set.zip\n",
            "Resolving s3.amazonaws.com (s3.amazonaws.com)... 52.217.169.56\n",
            "Connecting to s3.amazonaws.com (s3.amazonaws.com)|52.217.169.56|:443... connected.\n",
            "HTTP request sent, awaiting response... 200 OK\n",
            "Length: 9799344140 (9.1G) [application/zip]\n",
            "Saving to: ‘Bone+Age+Training+Set.zip’\n",
            "\n",
            "                Bon  92%[=================>  ]   8.45G  12.0MB/s    eta 59s    "
          ]
        }
      ]
    },
    {
      "cell_type": "code",
      "source": [],
      "metadata": {
        "id": "Nof9xEXPNubY"
      },
      "execution_count": null,
      "outputs": []
    },
    {
      "cell_type": "code",
      "source": [
        "\n",
        "#\n",
        "#\n",
        "#\n",
        "\n",
        "#from keras.applications.resnet50 import ResNet50\n",
        "from tensorflow.python.client import device_lib\n",
        "device_lib.list_local_devices() #baraye kar kardane gpu\n",
        "\n",
        "from keras.applications.vgg19 import VGG19\n",
        "from keras.applications.inception_v3 import InceptionV3\n",
        "from keras.applications.xception import Xception\n",
        "from keras.preprocessing import image\n",
        "from keras.models import Model, load_model\n",
        "from keras.layers import Flatten, Dense, Input, Reshape, Lambda\n",
        "from keras import backend as K\n",
        "import pickle\n",
        "import numpy as np\n",
        "import matplotlib.pyplot as plt\n",
        "import keras\n",
        "from func_utils import *\n",
        "import os\n",
        "os.environ[\"CUDA_VISIBLE_DEVICES\"]=\"2\"\n",
        "os.environ['OMP_NUM_THREADS']='6'\n",
        "batch_size = 32 #mj 32\n",
        "epochs = 30      #mj 30\n",
        "\n",
        "# Load data\n",
        "print('...loading training data')\n",
        "f = open('data.pkl', 'rb')\n",
        "x = pickle.load(f)\n",
        "f.close()\n",
        "\n",
        "f = open('data_age.pkl', 'rb')\n",
        "y = pickle.load(f)\n",
        "f.close()\n",
        "\n",
        "f = open('data_gender.pkl','rb')\n",
        "gender = pickle.load(f)\n",
        "f.close()\n",
        "\n",
        "\n",
        "x = np.asarray(x, dtype=np.float32)\n",
        "y = np.asarray(y)\n",
        "gender = np.asarray(gender)\n",
        "\n",
        "x /= 255.\n",
        "gender =2*( gender-0.5)\n",
        "x_final = []\n",
        "y_final = []\n",
        "gender_final = []\n",
        "\n",
        "# Shuffle images and split into train, validation and test sets\n",
        "#random_no = np.random.choice(x.shape[0], size=x.shape[0], replace=False)\n",
        "random_no = np.arange(x.shape[0])\n",
        "np.random.seed(0)\n",
        "np.random.shuffle(random_no)\n",
        "for i in random_no:\n",
        "    x_final.append(x[i,:,:,:])\n",
        "    y_final.append(y[i])\n",
        "    gender_final.append(gender[i])\n",
        "\n",
        "x_final = np.asarray(x_final)\n",
        "y_final = np.asarray(y_final)\n",
        "gender_final = np.asarray(gender_final)\n",
        "print (y_final[:50])\n",
        "print (gender_final[:50])\n",
        "k = 500 # Decides split count\n",
        "x_test = x_final[:k,:,:,:]\n",
        "y_test = y_final[:k]\n",
        "gender_test = gender_final[:k]\n",
        "x_valid = x_final[k:2*k,:,:,:]\n",
        "y_valid = y_final[k:2*k]\n",
        "gender_valid = gender_final[k:2*k]\n",
        "x_train = x_final[2*k:,:,:,:]\n",
        "y_train = y_final[2*k:]\n",
        "gender_train = gender_final[2*k:]\n",
        "\n",
        "## \n",
        "#y_test = keras.utils.to_categorical(y_test,240)\n",
        "#y_train = keras.utils.to_categorical(y_train,240)\n",
        "#y_valid = keras.utils.to_categorical(y_valid,240)\n",
        "y_train = softlabel(y_train,240)\n",
        "y_valid = softlabel(y_valid,240)\n",
        "y_test = softlabel(y_test,240)\n",
        "#print (y_train[0,:]) #mj\n",
        "\n",
        "\n",
        "print ('x_train shape:'+ str(x_train.shape))\n",
        "print ('y_train shape:'+ str(y_train.shape))\n",
        "print ('gender_train shape:'+ str(gender_train.shape))\n",
        "print ('x_valid shape:'+ str(x_valid.shape))\n",
        "print ('y_valid shape:'+ str(y_valid.shape))\n",
        "print ('gender_valid shape:' + str(gender_valid.shape))\n",
        "print ('x_test shape:'+ str(x_test.shape))\n",
        "print ('y_test shape:'+ str(y_test.shape))\n",
        "\n",
        "# Using VGG19 with pretrained weights from Imagenet \n",
        "base_model = InceptionV3(weights='imagenet', include_top=False)\n",
        "for i,layer in enumerate(base_model.layers):\n",
        "    print (i,layer.name)\n",
        "input = Input(shape=(300,300,3),name='input1')\n",
        "input_gender = Input(shape=(1,),dtype='float32',name='input2')\n",
        "output = base_model(input)\n",
        "gender_embedding=Dense(16)(input_gender)\n",
        "#gender_embedding=Dense(12)(gender_embedding)\n",
        "#x = keras.layers.MaxPooling2D(pool_size=(3,3))(output)\n",
        "#x = keras.layers.Conv2D(512,kernel_size=(3,3))(x)\n",
        "#x = keras.layers.Conv2D(256,kernel_size=(1,1))(x)\n",
        "print (K.int_shape(output))\n",
        "x = keras.layers.MaxPooling2D(pool_size=(8,8))(output)\n",
        "print (K.int_shape(x))\n",
        "x=Flatten()(x)\n",
        "f = keras.layers.Concatenate(axis=1)([x,gender_embedding])\n",
        "print (K.int_shape(f)) \n",
        "#x = Dense(256, activation='relu')(x)\n",
        "predictions = Dense(240)(x)\n",
        "\n",
        "model = Model(inputs=[input,input_gender], outputs=predictions)\n",
        "for i,layer in enumerate(model.layers):\n",
        "    print (i,layer.name)\n",
        "\n",
        "Adam=keras.optimizers.Adam(lr=0.0003,beta_1=0.9,beta_2=0.999)\n",
        "model.compile(optimizer=Adam, loss='mean_absolute_error', metrics=['MAE'])\n",
        "\n",
        "# Save weights after every epoch\n",
        "checkpoint =keras.callbacks.ModelCheckpoint(filepath='weights/weights.{epoch:02d}-{val_loss:.2f}.hdf5',save_weights_only=True,period=30) #mj priod=30\n",
        "history=model.fit([x_train,gender_train],y_train,batch_size=batch_size,epochs=60,verbose=1,validation_data=([x_valid,gender_valid],y_valid), callbacks = [checkpoint]) #mj epoch 60\n",
        "score = model.evaluate([x_test,gender_test], y_test, batch_size=batch_size)\n",
        "print('Test loss:', score[0])\n",
        "print('Test MAE:', score[1])\n",
        "\n",
        "#TestMAE = TestMAE(model,x_test,y_test,gender_test)\n",
        "#print ('TestMAE:',TestMAE)\n",
        "##Visulization\n",
        "weights=model.layers[-1].get_weights()[0]\n",
        "print (weights.shape)\n",
        "#GAPAttention(model,weights,'/raid/chenchao/code/BoneAge/BoneAge/data/train/')\n",
        "#ShowAttentionV1(base_model,'/raid/chenchao/code/BoneAge/BoneAge/data/train/')\n",
        "\n",
        "#for layer in base_model.layers[:16]:\n",
        "#    layer.trainable=False\n",
        "#for layer in base_model.layers:\n",
        "#    print (layer.name,layer.trainable)\n",
        "Adam=keras.optimizers.Adam(lr=0.0001,beta_1=0.9,beta_2=0.999)\n",
        "model.compile(optimizer=Adam, loss='mean_absolute_error', metrics=['MAE'])\n",
        "history = model.fit([x_train,gender_train],y_train,batch_size=batch_size,epochs=10,verbose=1,validation_data=([x_valid,gender_valid],y_valid), callbacks = [checkpoint]) #mj epochs=30\n",
        "score = model.evaluate([x_test,gender_test], y_test, batch_size=batch_size)\n",
        "print('Test loss:', score[0])\n",
        "print('Test MAE:', score[1])\n",
        "\n",
        "#TestMAE = TestMAE(model,x_test,y_test,gender_test)\n",
        "#print ('TestMAE:',TestMAE)\n",
        "\n",
        "weights=model.layers[-1].get_weights()[0]\n",
        "print (weights.shape)\n",
        "GAPAttention(model,weights,'/content/Bone+Age+Training+set/boneage-training-dataset/')\n",
        "#ShowAttentionV1(base_model,'/raid/chenchao/code/BoneAge/BoneAge/data/train/')\n",
        "\n",
        "#Adam=keras.optimizers.Adam(lr=0.00001,beta_1=0.9,beta_2=0.999)\n",
        "#model.compile(optimizer=Adam, loss='mean_absolute_error', metrics=['MAE'])\n",
        "#history = model.fit([x_train,gender_train], y_train,batch_size=batch_size,epochs=epochs,verbose=1,validation_data=([x_valid,gender_valid],y_valid), callbacks = [checkpoint])\n",
        "#score = model.evaluate([x_test,gender_test], y_test, batch_size=batch_size)\n",
        "#print('Test loss:', score[0])\n",
        "#print('Test MAE:', score[1])\n",
        "\n",
        "#ShowAttentionV1(base_model,'/raid/chenchao/code/BoneAge/BoneAge/data/train/')\n",
        "\n",
        "\n",
        "model.save_weights(\"model.h5\")\n",
        "with open('history.pkl', 'wb') as f:\n",
        "\tpickle.dump(history.history, f)\n",
        "f.close()\n",
        "\n"
      ],
      "metadata": {
        "id": "PRUypu1GNuWa"
      },
      "execution_count": null,
      "outputs": []
    }
  ]
}